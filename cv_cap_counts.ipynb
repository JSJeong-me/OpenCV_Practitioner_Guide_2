{
  "nbformat": 4,
  "nbformat_minor": 5,
  "metadata": {
    "kernelspec": {
      "display_name": "Python 3",
      "language": "python",
      "name": "python3"
    },
    "language_info": {
      "codemirror_mode": {
        "name": "ipython",
        "version": 3
      },
      "file_extension": ".py",
      "mimetype": "text/x-python",
      "name": "python",
      "nbconvert_exporter": "python",
      "pygments_lexer": "ipython3",
      "version": "3.8.3"
    },
    "colab": {
      "name": "cv_cap_counts.ipynb",
      "provenance": [],
      "include_colab_link": true
    }
  },
  "cells": [
    {
      "cell_type": "markdown",
      "metadata": {
        "id": "view-in-github",
        "colab_type": "text"
      },
      "source": [
        "<a href=\"https://colab.research.google.com/github/JSJeong-me/OpenCV_Practitioner_Guide_2/blob/main/cv_cap_counts.ipynb\" target=\"_parent\"><img src=\"https://colab.research.google.com/assets/colab-badge.svg\" alt=\"Open In Colab\"/></a>"
      ]
    },
    {
      "cell_type": "markdown",
      "metadata": {
        "id": "1472ca93"
      },
      "source": [
        "### OpenCV - Excercise #1\n",
        "\n",
        "### By Joo Soo Jeong / Ph.D\n",
        "\n",
        "### https://github.com/JSJeong-me/\n",
        "\n",
        "### email: heinem@naver.com\n",
        "\n",
        "###  Copyrights 2021"
      ],
      "id": "1472ca93"
    },
    {
      "cell_type": "markdown",
      "metadata": {
        "id": "eb79bb83"
      },
      "source": [
        "### Counts number of caps in a box."
      ],
      "id": "eb79bb83"
    },
    {
      "cell_type": "markdown",
      "metadata": {
        "id": "e98196dc"
      },
      "source": [
        "![caps_box.jpg](attachment:5629ffb0-e6f5-4939-b7a6-6c9adb50dee3.jpg)"
      ],
      "id": "e98196dc"
    },
    {
      "cell_type": "markdown",
      "metadata": {
        "id": "81049d24"
      },
      "source": [
        "### Get RGB codes values of red caps using Google vision API. \n",
        "\n",
        "#### red (161, 32, 30)\n",
        "#### (111, 30, 32)\n",
        "#### (174, 29, 18)\n",
        "#### (150, 39, 47)\n",
        "#### low [111, 29, 18]\n",
        "#### high [200, 50, 50]"
      ],
      "id": "81049d24"
    },
    {
      "cell_type": "code",
      "metadata": {
        "id": "aedcdf12"
      },
      "source": [
        "#!pip install imutils"
      ],
      "id": "aedcdf12",
      "execution_count": null,
      "outputs": []
    },
    {
      "cell_type": "code",
      "metadata": {
        "id": "16d6c20f"
      },
      "source": [
        "import cv2\n",
        "import numpy as np\n",
        "import sys\n",
        "\n",
        "src = cv2.imread('./antivirus.jpg')\n",
        "\n",
        "if src is None:\n",
        "    print('image load failed')\n",
        "    sys.exit()\n",
        "\n",
        "\n",
        "rgb_src = cv2.cvtColor(src, cv2.COLOR_BGR2RGB)\n",
        "\n",
        "# low [111, 29, 18]\n",
        "# high [200, 50, 50]\n",
        "low = np.array([111, 0, 0])\n",
        "high = np.array([204, 55, 55])\n",
        "mask = cv2.inRange(rgb_src, low, high)\n",
        "#result = cv2.bitwise_and(src, src, mask=mask)\n",
        "\n",
        "blur = cv2.medianBlur(mask,15)\n",
        "\n",
        "# Distance transfrom\n",
        "dist_transform = cv2.distanceTransform(blur,cv2.DIST_L2,3)\n",
        "ret, isolate_image =  cv2.threshold(dist_transform, 0.5*dist_transform.max(),255,0)\n",
        "\n",
        "last_image = np.uint8(isolate_image)\n",
        "\n",
        "# the counting of objects and recording the positions of the objects\n",
        "cnts, _ = cv2.findContours(last_image.copy(), cv2.RETR_EXTERNAL, cv2.CHAIN_APPROX_SIMPLE)\n",
        "\n",
        "print('Contour : {0}'.format(len(cnts)))\n",
        "\n",
        "for (i, c) in enumerate(cnts):\n",
        "    ((x, y), _) = cv2.minEnclosingCircle(c)\n",
        "    cv2.drawContours(src, [c], -1, (0, 255, 0), 5)\n",
        "    cv2.putText(src, \"{}\".format(i + 1), (int(x)-55, int(y)+50), cv2.FONT_HERSHEY_SIMPLEX, 2, (255, 0, 0), 3)\n",
        "\n",
        "cv2.imshow('Anti-virus', src)\n",
        "cv2.imshow('Distance Transform Iamge', dist_transform)\n",
        "cv2.imshow('Isolated Iamge', isolate_image)\n",
        "\n",
        "\n",
        "cv2.waitKey(0)\n",
        "cv2.destroyAllWindows()"
      ],
      "id": "16d6c20f",
      "execution_count": null,
      "outputs": []
    },
    {
      "cell_type": "code",
      "metadata": {
        "id": "6f450044"
      },
      "source": [
        ""
      ],
      "id": "6f450044",
      "execution_count": null,
      "outputs": []
    }
  ]
}