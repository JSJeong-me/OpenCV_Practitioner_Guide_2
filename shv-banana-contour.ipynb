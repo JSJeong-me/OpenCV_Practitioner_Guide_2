{
 "cells": [
  {
   "cell_type": "code",
   "execution_count": 1,
   "id": "045bb924-5710-45b8-bf5a-6044e1bdbf99",
   "metadata": {},
   "outputs": [],
   "source": [
    "import cv2\n",
    "import numpy as np"
   ]
  },
  {
   "cell_type": "code",
   "execution_count": 2,
   "id": "8ec81fab-5325-48df-b315-4774e5a8705f",
   "metadata": {},
   "outputs": [],
   "source": [
    "src1 = cv2.imread('.\\\\images\\\\banana3.png')"
   ]
  },
  {
   "cell_type": "code",
   "execution_count": 3,
   "id": "e1ce948c-bdee-48f3-ac1b-8e6a907f8c37",
   "metadata": {},
   "outputs": [],
   "source": [
    "src2 = cv2.cvtColor(src1, cv2.COLOR_BGR2HSV)"
   ]
  },
  {
   "cell_type": "markdown",
   "id": "a0f69c3d-078f-4f6c-90d4-dbc0ad5df2da",
   "metadata": {},
   "source": [
    "69 81 130\n",
    "255 255 255   # Green\n",
    "\n",
    "19 0 237 255 255 255  # Yellow  \n",
    "\n",
    "0  185 215\n",
    "255 255 255   # Red\n"
   ]
  },
  {
   "cell_type": "code",
   "execution_count": 4,
   "id": "ff22912a-30fe-4a54-a94c-8bd2d8193274",
   "metadata": {},
   "outputs": [],
   "source": [
    "# 14 60 146 low H S V\n",
    "# 164 255 255 High H S V"
   ]
  },
  {
   "cell_type": "code",
   "execution_count": 5,
   "id": "8c130116-a9b8-4891-bbde-a341afda8339",
   "metadata": {},
   "outputs": [],
   "source": [
    "low_green = np.array([12, 58, 144])\n",
    "high_green = np.array([166, 255, 255])"
   ]
  },
  {
   "cell_type": "code",
   "execution_count": 6,
   "id": "9aa0eb8a-e179-4a7b-bd53-2567576e15fc",
   "metadata": {},
   "outputs": [],
   "source": [
    "low_yellow = np.array([19, 37, 181])\n",
    "high_yellow = np.array([255, 255, 255])"
   ]
  },
  {
   "cell_type": "code",
   "execution_count": 7,
   "id": "932d86c9-24e4-423e-ace5-59379c8ed310",
   "metadata": {},
   "outputs": [],
   "source": [
    "low_red = np.array([0, 183, 213])\n",
    "high_red = np.array([255, 255, 255])"
   ]
  },
  {
   "cell_type": "code",
   "execution_count": 8,
   "id": "5831080f-629e-4a24-b8db-a315ed7b5e79",
   "metadata": {},
   "outputs": [],
   "source": [
    "mask = cv2.inRange(src2, low_green, high_green)\n",
    "#mask = cv2.inRange(src2, low_yellow, high_yellow)\n",
    "#mask = cv2.inRange(src2, low_red, high_red)"
   ]
  },
  {
   "cell_type": "code",
   "execution_count": 9,
   "id": "2b90761e-fd23-4b74-8df8-bea175ce3141",
   "metadata": {},
   "outputs": [],
   "source": [
    "src1_sub = cv2.bitwise_and(src2, src2, mask = mask)"
   ]
  },
  {
   "cell_type": "code",
   "execution_count": 10,
   "id": "0c8a5ed6-890a-45da-a66c-0caa9f1670a2",
   "metadata": {},
   "outputs": [],
   "source": [
    "cv2.imshow('Signal', src1)\n",
    "cv2.imshow('Mask', mask)\n",
    "cv2.imshow('Substraction', src1_sub)\n",
    "cv2.waitKey(0) # 0 forever \n",
    "cv2.destroyAllWindows()"
   ]
  },
  {
   "cell_type": "code",
   "execution_count": null,
   "id": "0e4c55ac-78d6-47d7-a000-a5f5068a5c18",
   "metadata": {},
   "outputs": [],
   "source": []
  },
  {
   "cell_type": "code",
   "execution_count": null,
   "id": "f14dcdc4-0381-4191-bf69-c9837d3e08e6",
   "metadata": {},
   "outputs": [],
   "source": []
  },
  {
   "cell_type": "code",
   "execution_count": null,
   "id": "14a8e753-db5b-4c43-a8f4-fd59c4b67402",
   "metadata": {},
   "outputs": [],
   "source": []
  }
 ],
 "metadata": {
  "kernelspec": {
   "display_name": "Python KOSA",
   "language": "python",
   "name": "kosa"
  },
  "language_info": {
   "codemirror_mode": {
    "name": "ipython",
    "version": 3
   },
   "file_extension": ".py",
   "mimetype": "text/x-python",
   "name": "python",
   "nbconvert_exporter": "python",
   "pygments_lexer": "ipython3",
   "version": "3.8.12"
  }
 },
 "nbformat": 4,
 "nbformat_minor": 5
}
